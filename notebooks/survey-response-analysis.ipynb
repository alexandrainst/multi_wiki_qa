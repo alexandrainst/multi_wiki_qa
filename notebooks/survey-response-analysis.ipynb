{
 "cells": [
  {
   "cell_type": "code",
   "execution_count": null,
   "id": "0",
   "metadata": {},
   "outputs": [],
   "source": [
    "%cd .."
   ]
  },
  {
   "cell_type": "code",
   "execution_count": null,
   "id": "1",
   "metadata": {},
   "outputs": [],
   "source": [
    "import re\n",
    "from pathlib import Path\n",
    "\n",
    "import matplotlib.pyplot as plt\n",
    "import numpy as np\n",
    "import pandas as pd\n",
    "\n",
    "plt.style.use(\"ggplot\")"
   ]
  },
  {
   "cell_type": "code",
   "execution_count": null,
   "id": "2",
   "metadata": {},
   "outputs": [],
   "source": [
    "feedback_dir = Path(\"data\", \"raw\", \"feedback\")\n",
    "feedback_paths = {\n",
    "    re.search(\"(?<=Feedback on the ).*?(?= fluency)\", path.name).group(): path\n",
    "    for path in feedback_dir.glob(\"Feedback*.xlsx\")\n",
    "}\n",
    "print(f\"Loaded {len(feedback_paths):,} feedback paths.\")\n",
    "feedback_paths"
   ]
  },
  {
   "cell_type": "code",
   "execution_count": null,
   "id": "3",
   "metadata": {},
   "outputs": [],
   "source": [
    "results = {\n",
    "    language: pd.read_excel(path).iloc[:, 6:].values\n",
    "    for language, path in feedback_paths.items()\n",
    "}\n",
    "results = dict(sorted(results.items(), key=lambda x: x[1].mean()))"
   ]
  },
  {
   "cell_type": "code",
   "execution_count": null,
   "id": "4",
   "metadata": {},
   "outputs": [],
   "source": [
    "y_pos = np.arange(len(results))\n",
    "means = [matrix.mean() for matrix in results.values()]\n",
    "ci_errors = [\n",
    "    1.96 * matrix.std(ddof=1) / np.sqrt(matrix.size) for matrix in results.values()\n",
    "]\n",
    "\n",
    "plt.figure(figsize=(14, 7))\n",
    "plt.errorbar(\n",
    "    x=means,\n",
    "    y=y_pos,\n",
    "    xerr=ci_errors,\n",
    "    fmt=\"o\",  # 'o' for a marker at the mean\n",
    "    color=\"black\",\n",
    "    capsize=5,  # Adds caps to the error bars\n",
    "    linestyle=\"None\",  # No line connecting the means\n",
    "    elinewidth=2,  # Thickness of the error bar lines\n",
    "    markeredgecolor=\"black\",\n",
    "    markerfacecolor=\"skyblue\",\n",
    "    markersize=8,\n",
    "    label=\"Mean value with 95% confidence interval\",\n",
    ")\n",
    "plt.legend(fontsize=11)\n",
    "plt.xticks(np.arange(1, 3.01, 0.1))\n",
    "plt.yticks(\n",
    "    ticks=y_pos,\n",
    "    labels=[f\"{language} (n={matrix.size})\" for language, matrix in results.items()],\n",
    "    fontsize=10,\n",
    ")\n",
    "plt.xlabel(\"Rating (1-3)\")\n",
    "plt.title(\"Fluency Rating of LLM-generated Questions per Language\", fontsize=15)\n",
    "plt.savefig(\n",
    "    \"data/processed/fluency-rating-plot.png\",\n",
    "    dpi=300,\n",
    "    bbox_inches=\"tight\",\n",
    "    pad_inches=0.1,\n",
    ")"
   ]
  }
 ],
 "metadata": {
  "kernelspec": {
   "display_name": "Python 3 (ipykernel)",
   "language": "python",
   "name": "python3"
  },
  "language_info": {
   "codemirror_mode": {
    "name": "ipython",
    "version": 3
   },
   "file_extension": ".py",
   "mimetype": "text/x-python",
   "name": "python",
   "nbconvert_exporter": "python",
   "pygments_lexer": "ipython3",
   "version": "3.11.10"
  }
 },
 "nbformat": 4,
 "nbformat_minor": 5
}
